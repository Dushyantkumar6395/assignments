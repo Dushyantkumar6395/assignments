{
 "cells": [
  {
   "cell_type": "code",
   "execution_count": 33,
   "id": "015c44c3-82d6-4203-ae23-7fe52bd75f5b",
   "metadata": {},
   "outputs": [
    {
     "name": "stdout",
     "output_type": "stream",
     "text": [
      "[1, 3, 5, 7, 9, 11, 13, 15, 17, 19, 21, 23, 25]\n"
     ]
    }
   ],
   "source": [
    "# Q1. Which keyword is used to create a function? Create a function to return a list of odd numbers in the\n",
    "#     range of 1 to 25.\n",
    "# Answer:\n",
    "  # 'def' keyword is used to create a function.\n",
    "def odd_numbers(n):\n",
    "    return [x for x in range(n + 1) if x % 2 == 1]\n",
    "print(odd_numbers(25))\n",
    "   "
   ]
  },
  {
   "cell_type": "code",
   "execution_count": 40,
   "id": "d2e19f30-5791-47db-b342-d2cbf663bafe",
   "metadata": {},
   "outputs": [
    {
     "name": "stdout",
     "output_type": "stream",
     "text": [
      "(1, 2, 34, 56, 7, 8)\n",
      "<class 'tuple'>\n",
      "{'a': (1, 2, 3, 4), 'b': [12.3, 34, 'Dushyant', 'pwskills'], 'c': 34, 'd': 345}\n",
      "<class 'dict'>\n"
     ]
    }
   ],
   "source": [
    "# Q2. Why *args and **kwargs is used in some functions? Create a function each for *args and **kwargs\n",
    "#     to demonstrate their use.\n",
    "# Answer:\n",
    "# '*args' ---> Here a single asterisk( * ) is  used in *args. It is used to pass a variable number of arguments to a function, \n",
    "#              it is mostly used to pass a non-key argument and variable-length argument list. output by *args in tuple.\n",
    "# For example :\n",
    "def dus(*args):\n",
    "    return args\n",
    "print(dus(1,2,34,56,7,8))\n",
    "print(type(dus()))\n",
    "\n",
    "# '**kwargs'---> Here a double asterisk( ** ) is also used as **kwargs, the double asterisks allow passing keyword arguments.\n",
    "#               This special symbol is used to pass a keyword arguments and variable-length argument lists. \n",
    "# For example:\n",
    "def dus1(**kwargs):\n",
    "    return kwargs\n",
    "print(dus1(a = (1,2,3,4), b = [12.3,34, \"Dushyant\",\"pwskills\"], c = 34, d = 345))\n",
    "print(type(dus1()))"
   ]
  },
  {
   "cell_type": "code",
   "execution_count": 60,
   "id": "145cd353-ab86-41bf-b221-0107ac65b6fc",
   "metadata": {},
   "outputs": [
    {
     "name": "stdout",
     "output_type": "stream",
     "text": [
      "<class 'list'>\n",
      "<class 'list_iterator'>\n",
      "2\n",
      "4\n",
      "6\n",
      "8\n",
      "10\n"
     ]
    }
   ],
   "source": [
    "#  Q3. What is an iterator in python? Name the method used to initialise the iterator object and the method\n",
    "#      used for iteration.Use these methods to print the first five elements of the given list [2, 4, 6, 8, 10, 12, 14,16, 18, 20].\n",
    "# Answer:\n",
    "# iterator--->  an iterator is an object that allows you to iterate over collections of data, such as lists, tuples, dictionaries, and sets.\n",
    "# \" 'iter' method used to initialised the iterator object \"\n",
    "l = [2, 4, 6, 8, 10, 12, 14, 16, 18, 20]\n",
    "print(type(l))\n",
    "l1 = iter(l)\n",
    "print(type(l1))\n",
    "print(next(l1))\n",
    "print(next(l1))\n",
    "print(next(l1))\n",
    "print(next(l1))\n",
    "print(next(l1))\n",
    "\n"
   ]
  },
  {
   "cell_type": "code",
   "execution_count": 62,
   "id": "0af98233-b4f5-4411-bbdc-b2452403ac81",
   "metadata": {},
   "outputs": [
    {
     "name": "stdout",
     "output_type": "stream",
     "text": [
      "[0, 1, 1, 2, 3, 5, 8, 13, 21, 34]\n"
     ]
    }
   ],
   "source": [
    "# Q4. What is a generator function in python? Why yield keyword is used? Give an example of a generator function.\n",
    "# Answer:\n",
    "# Generator Function :  A Python generator function allows you to declare a function that behaves like an iterator,\n",
    "#                       providing a faster and easier way to create iterators.\n",
    "# why yield keyword is used : If you want to return multiple values from a function, you can use generator functions with yield keywords. \n",
    "#                              The yield expressions return multiple values.\n",
    "# For example\n",
    "def fib_series(n):\n",
    "    a,b = 0,1\n",
    "    for i in range(n):\n",
    "        yield a\n",
    "        a,b = b,a+b\n",
    "        \n",
    "print(list(fib_series(10)))\n"
   ]
  },
  {
   "cell_type": "code",
   "execution_count": 8,
   "id": "f66599a7-dcc0-4363-8849-79c3326a2a6d",
   "metadata": {},
   "outputs": [
    {
     "name": "stdout",
     "output_type": "stream",
     "text": [
      "2 3 5 7 "
     ]
    }
   ],
   "source": [
    "# Q5. Create a generator function for prime numbers less than 1000. Use the next() method to print the\n",
    "#     first 20 prime numbers.\n",
    "# Answer:\n",
    "# Python3 program to print\n",
    "# all primes less than N\n",
    "\n",
    "# Function to check whether\n",
    "# a number is prime or not .\n",
    "def isPrime(n):\n",
    "\t\n",
    "\t# Corner case\n",
    "\tif n <= 1 :\n",
    "\t\treturn False\n",
    "\n",
    "\t# check from 2 to n-1\n",
    "\tfor i in range(2, n):\n",
    "\t\tif"
   ]
  },
  {
   "cell_type": "code",
   "execution_count": 2,
   "id": "5d8315cb-a630-4f6c-a9e9-77977e51b933",
   "metadata": {},
   "outputs": [
    {
     "name": "stdin",
     "output_type": "stream",
     "text": [
      "\n",
      "Please Enter the Range :  10\n"
     ]
    },
    {
     "name": "stdout",
     "output_type": "stream",
     "text": [
      "0\n",
      "1\n",
      "1\n",
      "2\n",
      "3\n",
      "5\n",
      "8\n",
      "13\n",
      "21\n",
      "34\n"
     ]
    }
   ],
   "source": [
    "# Q6. Write a python program to print the first 10 Fibonacci numbers using a while loop.\n",
    "# Answer:\n",
    "Number = int(input(\"\\nPlease Enter the Range : \"))\n",
    "\n",
    "# Initializing First and Second Values\n",
    "i = 0\n",
    "First_Value = 0\n",
    "Second_Value = 1\n",
    "           \n",
    "# Find & Displaying\n",
    "while(i < Number):\n",
    "    if(i <= 1):\n",
    "        Next = i\n",
    "    else:\n",
    "        Next = First_Value + Second_Value\n",
    "        First_Value = Second_Value\n",
    "        Second_Value = Next\n",
    "    print(Next)\n",
    "    i = i + 1"
   ]
  },
  {
   "cell_type": "code",
   "execution_count": 3,
   "id": "3808507b-074d-4b05-a08d-ef570c2276e6",
   "metadata": {},
   "outputs": [
    {
     "name": "stdout",
     "output_type": "stream",
     "text": [
      "['p', 'w', 's', 'k', 'i', 'l', 'l', 's']\n"
     ]
    }
   ],
   "source": [
    "# Q7. Write a List Comprehension to iterate through the given string: ‘pwskills’.\n",
    "#     Expected output: ['p', 'w', 's', 'k', 'i', 'l', 'l', 's'] \n",
    "# Answer:\n",
    "s = \"pwskills\"\n",
    "print(list(map(lambda x: x, s)))"
   ]
  },
  {
   "cell_type": "code",
   "execution_count": 6,
   "id": "d7f1b9d5-3dea-4bea-a9e0-be5289a7116b",
   "metadata": {},
   "outputs": [
    {
     "name": "stdout",
     "output_type": "stream",
     "text": [
      "The original number is : 9669669\n",
      "Is the number palindrome ? : True\n"
     ]
    }
   ],
   "source": [
    "# Q8. Write a python program to check whether a given number is Palindrome or not using a while loop.\n",
    "# Answer:\n",
    "#Python3 code to demonstrate\n",
    "# checking a number is palindrome\n",
    "# using math.log() + recursion + list comprehension\n",
    "import math\n",
    "  \n",
    "# the recursive function to reverse\n",
    "def rev(num):\n",
    "    return int(num != 0) and ((num % 10) * \\\n",
    "             (10**int(math.log(num, 10))) + \\\n",
    "                          rev(num // 10))\n",
    " \n",
    "# initializing number\n",
    "test_number = 9669669\n",
    " \n",
    "# printing the original number\n",
    "print (\"The original number is : \" + str(test_number))\n",
    " \n",
    "# using math.log() + recursion + list comprehension\n",
    "# for checking a number is palindrome\n",
    "res = test_number == rev(test_number)\n",
    " \n",
    "# printing result\n",
    "print (\"Is the number palindrome ? : \" + str(res))"
   ]
  },
  {
   "cell_type": "code",
   "execution_count": 7,
   "id": "8a942734-7325-4801-b9a4-03fd02ec055b",
   "metadata": {},
   "outputs": [
    {
     "name": "stdout",
     "output_type": "stream",
     "text": [
      "1\n",
      "3\n",
      "5\n",
      "7\n",
      "9\n",
      "11\n",
      "13\n",
      "15\n",
      "17\n",
      "19\n",
      "21\n",
      "23\n",
      "25\n",
      "27\n",
      "29\n",
      "31\n",
      "33\n",
      "35\n",
      "37\n",
      "39\n",
      "41\n",
      "43\n",
      "45\n",
      "47\n",
      "49\n",
      "51\n",
      "53\n",
      "55\n",
      "57\n",
      "59\n",
      "61\n",
      "63\n",
      "65\n",
      "67\n",
      "69\n",
      "71\n",
      "73\n",
      "75\n",
      "77\n",
      "79\n",
      "81\n",
      "83\n",
      "85\n",
      "87\n",
      "89\n",
      "91\n",
      "93\n",
      "95\n",
      "97\n",
      "99\n"
     ]
    }
   ],
   "source": [
    "# Q9. Write a code to print odd numbers from 1 to 100 using list comprehension.\n",
    "# Anawer:\n",
    "for i in range(1,100):   \n",
    "    if i%2 == 1:\n",
    "        print(i)"
   ]
  },
  {
   "cell_type": "code",
   "execution_count": null,
   "id": "d26fb745-02f3-40ec-9993-da1b63375eb9",
   "metadata": {},
   "outputs": [],
   "source": []
  }
 ],
 "metadata": {
  "kernelspec": {
   "display_name": "Python 3 (ipykernel)",
   "language": "python",
   "name": "python3"
  },
  "language_info": {
   "codemirror_mode": {
    "name": "ipython",
    "version": 3
   },
   "file_extension": ".py",
   "mimetype": "text/x-python",
   "name": "python",
   "nbconvert_exporter": "python",
   "pygments_lexer": "ipython3",
   "version": "3.10.6"
  }
 },
 "nbformat": 4,
 "nbformat_minor": 5
}
