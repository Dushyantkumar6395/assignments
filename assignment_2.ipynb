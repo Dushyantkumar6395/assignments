{
 "cells": [
  {
   "cell_type": "code",
   "execution_count": 4,
   "id": "acf6b483-4b7a-4361-8abb-280adf8904cf",
   "metadata": {},
   "outputs": [
    {
     "data": {
      "text/plain": [
       "'My name is Dushyant Kumar\\ni am students of data science at pw skill '"
      ]
     },
     "execution_count": 4,
     "metadata": {},
     "output_type": "execute_result"
    }
   ],
   "source": [
    "#Q1---> How do you comment code in Python? What are the different types of comments?\n",
    "# Answer :\n",
    "# comments are two type in python. (1). single line comment and (2). multiline comments\n",
    "# (1). Single line comments:\n",
    "#          single line comments in python indentified with a hash(#) symbol\n",
    "# (2). Multiline comments:\n",
    "#          A Python multiline comment consists of a group of text enclosed in a delimiter (\"\"\") at each end.\n",
    "# for example:\n",
    "'''My name is Dushyant Kumar\n",
    "i am students of data science at pw skill ''' #---> This is multiline comments\n"
   ]
  },
  {
   "cell_type": "code",
   "execution_count": 10,
   "id": "d4244aff-cf0d-4db0-8cb9-8733a64ac7b6",
   "metadata": {},
   "outputs": [],
   "source": [
    "#Q2---> What are variables in Python? How do you declare and assign values to variables?\n",
    "#Answer :\n",
    "# variable : A Python variable is a symbolic name that is a reference or pointer to an object.\n",
    "#            Once an object is assigned to a variable, you can refer to the object by that name.\n",
    "# For example:\n",
    "a = 56  # This is a variable"
   ]
  },
  {
   "cell_type": "code",
   "execution_count": 11,
   "id": "44c4c2a8-ef8d-46fa-bb0e-9ba7dff85097",
   "metadata": {},
   "outputs": [
    {
     "data": {
      "text/plain": [
       "56"
      ]
     },
     "execution_count": 11,
     "metadata": {},
     "output_type": "execute_result"
    }
   ],
   "source": [
    "a"
   ]
  },
  {
   "cell_type": "code",
   "execution_count": null,
   "id": "a19bec93-ce69-4cd3-9211-37efa47f9f99",
   "metadata": {},
   "outputs": [],
   "source": [
    "#Q3---> How do you convert one data type to another in Python?\n",
    "#Answer:\n",
    "a = input(print(\"Enter the value of a is: \"))\n",
    "print(type(a))\n",
    "a1 = int(input(print(\"Enter the value of a is: \")))\n",
    "print(type(a1)) \n",
    "#Another exampple:\n",
    "b = 34\n",
    "print(b)\n",
    "print(type(b))\n",
    "b1 = '34'\n",
    "print(b1)\n",
    "print(type(b1))"
   ]
  },
  {
   "cell_type": "code",
   "execution_count": null,
   "id": "32977863-a1c2-4a6a-94f9-49c4de88f534",
   "metadata": {},
   "outputs": [],
   "source": [
    "#Q4--->  How do you write and execute a Python script from the command line?\n",
    "#Answer:\n",
    "a = '345'\n",
    "print(type(a))\n",
    "b = float('345')\n",
    "print(type(b))\n",
    "print(b)"
   ]
  },
  {
   "cell_type": "code",
   "execution_count": null,
   "id": "b19f35f6-527a-489a-9afb-85ee3592ebc6",
   "metadata": {},
   "outputs": [],
   "source": [
    "#Q5---> Given a list my_list = [1, 2, 3, 4, 5], write the code to slice the list and obtain the sub-list [2, 3].\n",
    "# Answer\n",
    "my_list = [1, 2, 3, 4, 5]\n",
    "sub_list = []\n",
    "for i in my_list:\n",
    "  if i>=2 and i<=3:\n",
    "    sub_list.append(i)\n",
    "print(sub_list)"
   ]
  },
  {
   "cell_type": "code",
   "execution_count": null,
   "id": "cfd79e24-e863-48a6-8621-12fd134a76b1",
   "metadata": {},
   "outputs": [],
   "source": [
    "#Q6---> What is a complex number in mathematics, and how is it represented in Python?\n",
    "#Answer:\n",
    "# complex number in mathmatics = a+ib where a,b belong to real numbers is called complex numbers in mathmatics\n",
    "\n",
    "# but in python\n",
    "p = 3+6j\n",
    "print(type(p))\n",
    "print(p)\n",
    "print(p.real)\n",
    "print(p.imag)"
   ]
  },
  {
   "cell_type": "code",
   "execution_count": null,
   "id": "51285276-fd50-4196-9c11-16709e2891f2",
   "metadata": {},
   "outputs": [],
   "source": [
    "#Q7--->What is the correct way to declare a variable named age and assign the value 25 to it?\n",
    "#Answer:\n",
    "age = 34\n",
    "print(age)"
   ]
  },
  {
   "cell_type": "code",
   "execution_count": null,
   "id": "d4a1bfe7-4a5b-44c7-95f9-8c2f2913ee5d",
   "metadata": {},
   "outputs": [],
   "source": [
    "#Q8---> Declare a variable named price and assign the value 9.99 to it. What data type does this variable belong to ?\n",
    "#Answer:\n",
    "price = 9.99  # float variable \n",
    "print(type(price))\n",
    "print(price)\n"
   ]
  },
  {
   "cell_type": "code",
   "execution_count": null,
   "id": "ca366ed6-0518-4e91-8f4e-fb31fc2d4259",
   "metadata": {},
   "outputs": [],
   "source": [
    "#Q9---> Create a variable named name and assign your full name to it as a string. How would you print the\n",
    "#       value of this variable?\n",
    "# Answer:\n",
    "name = \"Dushyant kumar\"\n",
    "print(name)\n",
    "print(type(name))"
   ]
  },
  {
   "cell_type": "code",
   "execution_count": null,
   "id": "6ce9492c-fbc7-4fe9-8f03-7de5469bcf6a",
   "metadata": {},
   "outputs": [],
   "source": [
    "#Q10---> Given the string \"Hello, World!\", extract the substring \"World\".\n",
    "string = \"Hello,World!\"\n",
    "sub_string = string[6:11]\n",
    "print(sub_string)"
   ]
  },
  {
   "cell_type": "code",
   "execution_count": null,
   "id": "7e526132-11de-415c-a56e-205d0f1931ae",
   "metadata": {},
   "outputs": [],
   "source": [
    "#Q11--- Create a variable named \"is_student\" and assign it a boolean value indicating whether you are \n"
   ]
  }
 ],
 "metadata": {
  "kernelspec": {
   "display_name": "Python 3 (ipykernel)",
   "language": "python",
   "name": "python3"
  },
  "language_info": {
   "codemirror_mode": {
    "name": "ipython",
    "version": 3
   },
   "file_extension": ".py",
   "mimetype": "text/x-python",
   "name": "python",
   "nbconvert_exporter": "python",
   "pygments_lexer": "ipython3",
   "version": "3.10.6"
  }
 },
 "nbformat": 4,
 "nbformat_minor": 5
}
