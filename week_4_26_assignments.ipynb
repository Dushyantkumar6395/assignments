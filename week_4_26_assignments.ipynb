{
 "cells": [
  {
   "cell_type": "code",
   "execution_count": 15,
   "id": "68596c43-96cd-46d2-941c-5f52f757e028",
   "metadata": {},
   "outputs": [
    {
     "name": "stdout",
     "output_type": "stream",
     "text": [
      "{'Maruti'} is a super car. whose max speed is  {250}  and average speed of this vehicle is  {150}\n"
     ]
    }
   ],
   "source": [
    "# Q1, Create a vehicle class with an init method having instance variables as name_of_vehicle, max_speed\n",
    "#     and average_of_vehicle. \n",
    "# Answer:\n",
    "class vehicle:\n",
    "    def __init__(self,name_of_vehicle, max_speed, average_of_vehicle):\n",
    "        self.name_of_vehicle = name_of_vehicle\n",
    "        self.max_speed = max_speed\n",
    "        self.average_of_vehicle = average_of_vehicle\n",
    "        \n",
    "obj1 = vehicle(\"Maruti\", 250, 150)\n",
    "print({obj1.name_of_vehicle} ,\"is a super car. whose max speed is \",{obj1.max_speed},\" and average speed of this vehicle is \",{obj1.average_of_vehicle}, )\n",
    "        \n",
    "        \n",
    "    \n",
    "\n",
    "\n"
   ]
  },
  {
   "cell_type": "code",
   "execution_count": 19,
   "id": "42c9a228-7d33-46d8-8a40-8f31355b6274",
   "metadata": {},
   "outputs": [
    {
     "ename": "TypeError",
     "evalue": "vehicle.__init__() missing 2 required positional arguments: 'max_speed' and 'average_of_vehicle'",
     "output_type": "error",
     "traceback": [
      "\u001b[0;31m---------------------------------------------------------------------------\u001b[0m",
      "\u001b[0;31mTypeError\u001b[0m                                 Traceback (most recent call last)",
      "Cell \u001b[0;32mIn [19], line 9\u001b[0m\n\u001b[1;32m      6\u001b[0m     \u001b[38;5;28;01mdef\u001b[39;00m \u001b[38;5;21m__Init__\u001b[39m(\u001b[38;5;28mself\u001b[39m,seating_capacity ):\n\u001b[1;32m      7\u001b[0m         \u001b[38;5;28mself\u001b[39m\u001b[38;5;241m.\u001b[39mseating_capacity \u001b[38;5;241m=\u001b[39m seating_capacity\n\u001b[0;32m----> 9\u001b[0m obj2 \u001b[38;5;241m=\u001b[39m \u001b[43mchild_car\u001b[49m\u001b[43m(\u001b[49m\u001b[38;5;241;43m12\u001b[39;49m\u001b[43m)\u001b[49m\n",
      "\u001b[0;31mTypeError\u001b[0m: vehicle.__init__() missing 2 required positional arguments: 'max_speed' and 'average_of_vehicle'"
     ]
    }
   ],
   "source": [
    "# Q2.  Create a child class car from the vehicle class created in Que 1, which will inherit the vehicle class.\n",
    "#      Create a method named seating_capacity which takes capacity as an argument and returns the name of\n",
    "#      the vehicle and its seating capacity.\n",
    "# Answer:\n",
    "class child_car(vehicle):\n",
    "    def __Init__(self,seating_capacity ):\n",
    "        self.seating_capacity = seating_capacity\n",
    "        \n",
    "obj2 = child_car()"
   ]
  },
  {
   "cell_type": "code",
   "execution_count": 24,
   "id": "fa5007a1-7409-4846-89ad-e16946b586e1",
   "metadata": {},
   "outputs": [
    {
     "name": "stdout",
     "output_type": "stream",
     "text": [
      "{'This is math class'}  and  {'This is physics class'}\n"
     ]
    }
   ],
   "source": [
    "# Q3. What is multiple inheritance? Write a python code to demonstrate multiple inheritance.\n",
    "# Answer:\n",
    "# Multiple Inheritence: If a child class is inheriting the properties of a single other class,\n",
    "#                       we call it single inheritance. However, if a child class inherits from more than one class, \n",
    "#                       we call it multiple inheritence.\n",
    "# For example: \n",
    "class math:\n",
    "    \n",
    "    def class_math(self):\n",
    "        return \"This is math class\"\n",
    "    \n",
    "class physics:\n",
    "    \n",
    "    def class_physics(self):\n",
    "        return \"This is physics class\"\n",
    "    \n",
    "class combined_class(math,physics):\n",
    "    \n",
    "    pass\n",
    "\n",
    "obj1 = combined_class()\n",
    "print({obj1.class_math()},\" and \",{obj1.class_physics()})\n",
    "\n",
    "# This is multiple inheritence ."
   ]
  },
  {
   "cell_type": "code",
   "execution_count": null,
   "id": "c79a84e0-9b94-4a3b-bef9-4b355c080930",
   "metadata": {},
   "outputs": [],
   "source": [
    "# Q4. What are getter and setter in python? Create a class and create a getter and a setter method in this class.\n",
    "# Answer:\n"
   ]
  }
 ],
 "metadata": {
  "kernelspec": {
   "display_name": "Python 3 (ipykernel)",
   "language": "python",
   "name": "python3"
  },
  "language_info": {
   "codemirror_mode": {
    "name": "ipython",
    "version": 3
   },
   "file_extension": ".py",
   "mimetype": "text/x-python",
   "name": "python",
   "nbconvert_exporter": "python",
   "pygments_lexer": "ipython3",
   "version": "3.10.6"
  }
 },
 "nbformat": 4,
 "nbformat_minor": 5
}
