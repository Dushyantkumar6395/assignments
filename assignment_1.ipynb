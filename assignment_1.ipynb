{
 "cells": [
  {
   "cell_type": "code",
   "execution_count": 2,
   "id": "a993282a-34fe-4051-97d4-f53b4a1e0ff0",
   "metadata": {},
   "outputs": [
    {
     "name": "stdout",
     "output_type": "stream",
     "text": [
      "Dushyant\n",
      "<class 'str'>\n",
      "[1, 2, 3, 3.4, 'Dushyant', True, 'Pwskill', 'd']\n",
      "<class 'list'>\n",
      "5.7\n",
      "<class 'float'>\n",
      "(1, 2, 3, 2.3, 'pwskill', 'Shudhanshu', True, 'j')\n",
      "<class 'tuple'>\n"
     ]
    }
   ],
   "source": [
    "# Q1. Create one variable containing following type of data:\n",
    "#    (i)\tstring\n",
    "#    (ii)\tlist\n",
    "#    (iii)\tfloat\n",
    "#    (iv)\ttuple\n",
    "# Answer:\n",
    "#(1) How to make string data type\n",
    "a = \"Dushyant\"  # This is a string \n",
    "print(a)\n",
    "print(type(a))\n",
    "\n",
    "\n",
    "#(2) How to make list\n",
    "l = [1,2,3,3.4,\"Dushyant\",True,\"Pwskill\",'d'] # This is a list . list is mutable\n",
    "print(l) \n",
    "print(type(l))\n",
    "\n",
    "#(3) How to make a float data type\n",
    "b = 5.7\n",
    "print(b) # This is float data type\n",
    "print(type(b))\n",
    "\n",
    "#(4) How to make tuple\n",
    "t = (1,2,3,2.3,\"pwskill\",\"Shudhanshu\", True,'j')\n",
    "print(t) #This is a tuple. tuple is immutable\n",
    "print(type(t))"
   ]
  },
  {
   "cell_type": "code",
   "execution_count": 3,
   "id": "b3b82ed4-031b-4f86-b146-1c0b11628995",
   "metadata": {},
   "outputs": [
    {
     "name": "stdout",
     "output_type": "stream",
     "text": [
      "<class 'str'>\n",
      "<class 'str'>\n",
      "<class 'list'>\n",
      "<class 'int'>\n"
     ]
    }
   ],
   "source": [
    "# Q2. Given are some following variables containing data:\n",
    "#    (i)\tvar1 = ‘ ‘\n",
    "#    (ii)\tvar2 = ‘[ DS , ML , Python]’\n",
    "#    (iii)\tvar3 = [ ‘DS’ , ’ML’ , ‘Python’ ]\n",
    "#    (iv)\tvar4 = 1.\n",
    "\n",
    "# What will be the data type of the above given variable.\n",
    "# Answer:\n",
    "var1 = '' # This is string data type\n",
    "print(type(var1))\n",
    "\n",
    "var2 = '[DS, ML , Python]' # This is a string data type\n",
    "print(type(var2))\n",
    "\n",
    "var3 = ['DS', 'ML' , 'Python'] #This is a list\n",
    "print(type(var3))\n",
    "\n",
    "var4 = 1 # This is an int data type\n",
    "print(type(var4))"
   ]
  },
  {
   "cell_type": "code",
   "execution_count": 4,
   "id": "666eeea7-96ce-4692-b7f6-472cfed68cdd",
   "metadata": {},
   "outputs": [
    {
     "name": "stdout",
     "output_type": "stream",
     "text": [
      "3.0\n",
      "1\n",
      "13\n",
      "16\n"
     ]
    }
   ],
   "source": [
    "# Q3. Explain the use of the following operators using an example:\n",
    "# (i)\t/\n",
    "# (ii)\t% \n",
    "# (iii)\t//\n",
    "# (iv)\t**\n",
    "# Answer:\n",
    "#(1)  '/' This is a divide operater\n",
    "# for example\n",
    "a = 15\n",
    "b = 5\n",
    "print(a/b)\n",
    "\n",
    "#(2) '%' This a normal modulo operater\n",
    "# for example\n",
    "a1 = 15\n",
    "b1 = 2\n",
    "c = a1%b1\n",
    "print(c)\n",
    "\n",
    "#(3) '//' This is a floor division\n",
    "# for example\n",
    "a2 = 27\n",
    "b2 = 2\n",
    "c1 = a2//b2\n",
    "print(c1)\n",
    "\n",
    "#(4) '**' This is a power operater\n",
    "# for example\n",
    "print(4**2)"
   ]
  },
  {
   "cell_type": "code",
   "execution_count": 5,
   "id": "5dc362cf-d951-4f60-b22b-c8e0df8bd0ad",
   "metadata": {},
   "outputs": [
    {
     "name": "stdout",
     "output_type": "stream",
     "text": [
      "1\n",
      "<class 'int'>\n",
      "2\n",
      "<class 'int'>\n",
      "3\n",
      "<class 'int'>\n",
      "3.4\n",
      "<class 'float'>\n",
      "Dushyant\n",
      "<class 'str'>\n",
      "True\n",
      "<class 'bool'>\n",
      "pwskill\n",
      "<class 'str'>\n",
      "d\n",
      "<class 'str'>\n",
      "(1, 2, 3)\n",
      "<class 'tuple'>\n",
      "5\n",
      "<class 'int'>\n"
     ]
    }
   ],
   "source": [
    "# Q4. Create a list of length 10 of your choice containing multiple types of data. Using for loop print the\n",
    "#     element and its data type.\n",
    "# Answer:\n",
    "l = [1,2,3,3.4,\"Dushyant\",True, \"pwskill\", 'd', (1,2,3), 5]\n",
    "for i in l:\n",
    "    print(i)\n",
    "    print(type(i))"
   ]
  },
  {
   "cell_type": "code",
   "execution_count": 7,
   "id": "da35dc81-f0ec-409b-b85f-7831df07ff94",
   "metadata": {},
   "outputs": [
    {
     "name": "stdin",
     "output_type": "stream",
     "text": [
      "Enter the value of a is:  345\n",
      "Enter the value of b is:  567\n"
     ]
    },
    {
     "name": "stdout",
     "output_type": "stream",
     "text": [
      "a is not purely divisible by b\n"
     ]
    }
   ],
   "source": [
    "# Q5. Using a while loop, verify if the number A is purely divisible by number B and if so then how many\n",
    "#     times it can be divisible.\n",
    "# Answer:\n",
    "a = int(input(\"Enter the value of a is: \"))\n",
    "b = int(input(\"Enter the value of b is: \"))\n",
    "if(a%b==0):\n",
    "    print(\"a is divisible by b in\",a//b, \"times\")\n",
    "else:\n",
    "    print(\"a is not purely divisible by b\")"
   ]
  },
  {
   "cell_type": "code",
   "execution_count": 9,
   "id": "5004501e-7495-42ba-8948-e20c211c8f4a",
   "metadata": {},
   "outputs": [
    {
     "name": "stdout",
     "output_type": "stream",
     "text": [
      "Yes 1  is not divisible by 3\n",
      "Yes 2  is not divisible by 3\n",
      "Yes 3  is divisible by 3\n",
      "Yes 4  is not divisible by 3\n",
      "Yes 5  is not divisible by 3\n",
      "Yes 6  is divisible by 3\n",
      "Yes 7  is not divisible by 3\n",
      "Yes 8  is not divisible by 3\n",
      "Yes 9  is divisible by 3\n",
      "Yes 12  is divisible by 3\n",
      "Yes 22  is not divisible by 3\n",
      "Yes 23  is not divisible by 3\n",
      "Yes 34  is not divisible by 3\n",
      "Yes 45  is divisible by 3\n",
      "Yes 56  is not divisible by 3\n",
      "Yes 67  is not divisible by 3\n",
      "Yes 78  is divisible by 3\n",
      "Yes 89  is not divisible by 3\n",
      "Yes 123  is divisible by 3\n",
      "Yes 345  is divisible by 3\n",
      "Yes 567  is divisible by 3\n",
      "Yes 789  is divisible by 3\n",
      "Yes 12345  is divisible by 3\n",
      "Yes 5678  is not divisible by 3\n"
     ]
    }
   ],
   "source": [
    "# Q6. Create a list containing 25 int type data. Using for loop and if-else condition print if the element is\n",
    "#     divisible by 3 or not.\n",
    "# Answer:\n",
    "l = [1,2,3,4,5,6,7,8,9,12,22,23,34,45,56,67,78,89,123,345,567,789,12345,5678]\n",
    "for i in l:\n",
    "    if(i%3==0):\n",
    "        print(\"Yes\", i ,\" is divisible by 3\")\n",
    "    else:\n",
    "        print(\"Yes\", i ,\" is not divisible by 3\")"
   ]
  },
  {
   "cell_type": "code",
   "execution_count": null,
   "id": "81ce179a-449e-4a60-a29c-8fa3e7aff9ac",
   "metadata": {},
   "outputs": [],
   "source": [
    "# Q7. What do you understand about mutable and immutable data types? Give examples for both showing\n",
    "#     this property.\n",
    "# Answer:\n",
    "# MUTABLE ----->\"An object that allows you to change its value without changing its identity \"\n",
    "# for example , list is mutable object\n",
    "l = [1,2,3,4,5,6,7,8,9]\n",
    "print(l) #old list\n",
    "l.append(\"pwskill\")\n",
    "print(l) # new list\n",
    "\n",
    "# IMMUTABLE---->\"An object that NOT allows you to chnage its value without changing its identity\"\n",
    "# for example , tuple is immutable object\n",
    "t = (9,8,7,6,5,4,3,2,1)\n",
    "print(t) # this cannot be change"
   ]
  }
 ],
 "metadata": {
  "kernelspec": {
   "display_name": "Python 3 (ipykernel)",
   "language": "python",
   "name": "python3"
  },
  "language_info": {
   "codemirror_mode": {
    "name": "ipython",
    "version": 3
   },
   "file_extension": ".py",
   "mimetype": "text/x-python",
   "name": "python",
   "nbconvert_exporter": "python",
   "pygments_lexer": "ipython3",
   "version": "3.10.6"
  }
 },
 "nbformat": 4,
 "nbformat_minor": 5
}
