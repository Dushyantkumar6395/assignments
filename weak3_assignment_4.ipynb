{
 "cells": [
  {
   "cell_type": "code",
   "execution_count": 1,
   "id": "a73e0d05-78ff-4252-a298-d8ccecb25f9e",
   "metadata": {},
   "outputs": [
    {
     "name": "stdout",
     "output_type": "stream",
     "text": [
      "[1, 4, 9, 16, 25, 36, 49, 64, 81, 100]\n"
     ]
    }
   ],
   "source": [
    "# Q1. Create a python program to sort the given list of tuples based on integer value using a\n",
    "#     lambda function.\n",
    "#      [('Sachin Tendulkar', 34357), ('Ricky Ponting', 27483), ('Jack Kallis', 25534), ('Virat Kohli', 24936)]\n",
    "# Answer:\n",
    "\n",
    "# Python3 code to demonstrate\n",
    "# sort list of tuples according to second\n",
    "# using list comprehension + filter() + lambda\n",
    "\n",
    "# initializing list of tuples\n",
    "test_list = l = [('Sachin Tendulkar', 34357), ('Ricky Ponting', 27483), ('Jack Kallis', 25534), ('Virat Kohli', 24936)]\n",
    "print(list(map(lambda )))\n",
    "\n",
    "# initializing sort order\n",
    "sort_order = [4, 2, 3]\n",
    "\n",
    "# printing the original list\n",
    "print(\"The original list is : \" + str(test_list))\n",
    "\n",
    "# printing sort order list\n",
    "print(\"The sort order list is : \" + str(sort_order))\n",
    "\n",
    "# using list comprehension + filter() + lambda\n",
    "# sort list of tuples according to second\n",
    "res = [i for j in sort_order\n",
    "\tfor i in filter(lambda k: k[1] == j, test_list)]\n",
    "\n",
    "# printing result\n",
    "print(\"The list after appropriate sorting : \" + str(res))\n"
   ]
  },
  {
   "cell_type": "code",
   "execution_count": 21,
   "id": "be76bd95-4562-4a5e-b57b-d84a516bd353",
   "metadata": {},
   "outputs": [
    {
     "name": "stdout",
     "output_type": "stream",
     "text": [
      "[1, 4, 9, 16, 25, 36, 49, 64, 81, 100]\n"
     ]
    }
   ],
   "source": [
    "# Q2. Write a Python Program to find the squares of all the numbers in the given list of integers using\n",
    "#     lambda and map functions.\n",
    "#     [1, 2, 3, 4, 5, 6, 7, 8, 9, 10]\n",
    "# Answer:\n",
    "l = [1, 2, 3, 4, 5, 6, 7, 8, 9, 10]\n",
    "\n",
    "print(list(map(lambda x: x**2 , l)))"
   ]
  },
  {
   "cell_type": "code",
   "execution_count": 14,
   "id": "6bcad8c4-2294-4f89-91ef-f5528a226129",
   "metadata": {},
   "outputs": [
    {
     "name": "stdout",
     "output_type": "stream",
     "text": [
      "('1', '2', '3', '4', '5', '6', '7', '8', '9', '10')\n"
     ]
    }
   ],
   "source": [
    "# Q3. Write a python program to convert the given list of integers into a tuple of strings. Use map and\n",
    "#     lambda functions\n",
    "#     Given String: [1, 2, 3, 4, 5, 6, 7, 8, 9, 10]\n",
    "#     Expected output: ('1', '2', '3', '4', '5', '6', '7', '8', '9', '10')\n",
    "# Answer:\n",
    "l = [1, 2, 3, 4, 5, 6, 7, 8, 9, 10]\n",
    "print(tuple(map(str , l)))"
   ]
  },
  {
   "cell_type": "code",
   "execution_count": 17,
   "id": "53f900cf-cf39-4f91-97c4-141f81ca55ef",
   "metadata": {},
   "outputs": [
    {
     "data": {
      "text/plain": [
       "15511210043330985984000000"
      ]
     },
     "execution_count": 17,
     "metadata": {},
     "output_type": "execute_result"
    }
   ],
   "source": [
    "# Q4. Write a python program using reduce function to compute the product of a list containing numbers\n",
    "#     from 1 to 25.\n",
    "# Answer:\n",
    "from functools import reduce\n",
    "l = [1,2,3,4,5,6,7,8,9,10,11,12,13,14,15,16,17,18,19,20,21,22,23,24,25]\n",
    "reduce(lambda x,y:x*y , l)\n"
   ]
  },
  {
   "cell_type": "code",
   "execution_count": 19,
   "id": "bf8e074e-85d8-4420-9438-3f517e30cf7e",
   "metadata": {},
   "outputs": [
    {
     "name": "stdout",
     "output_type": "stream",
     "text": [
      "[2, 3, 6, 9, 27, 60, 90, 120, 46]\n"
     ]
    }
   ],
   "source": [
    "# Q5. Write a python program to filter the numbers in a given list that are divisible by 2 and 3 using the\n",
    "#     filter function.\n",
    "#     [2, 3, 6, 9, 27, 60, 90, 120, 55, 46]\n",
    "# Answer:\n",
    "l = [2, 3, 6, 9, 27, 60, 90, 120, 55, 46]\n",
    "print(list(filter(lambda x:  x%2==0 or x%3==0 , l )))\n"
   ]
  },
  {
   "cell_type": "code",
   "execution_count": 20,
   "id": "0c479e3d-3507-42cc-99c1-7f478820084e",
   "metadata": {},
   "outputs": [
    {
     "name": "stdout",
     "output_type": "stream",
     "text": [
      "Orginal list of strings:\n",
      "['python', 'php', 'aba', 'radar', 'level']\n",
      "\n",
      "List of palindromes:\n",
      "['php', 'aba', 'radar', 'level']\n"
     ]
    }
   ],
   "source": [
    "# Q6. Write a python program to find palindromes in the given list of strings using lambda and filter\n",
    "#     function.\n",
    "#     ['python', 'php', 'aba', 'radar', 'level']\n",
    "# Answer:\n",
    "texts = ['python', 'php', 'aba', 'radar', 'level']\n",
    "print(\"Orginal list of strings:\")\n",
    "print(texts) \n",
    "result = list(filter(lambda x: (x == \"\".join(reversed(x))), texts)) \n",
    "print(\"\\nList of palindromes:\")\n",
    "print(result) \n"
   ]
  },
  {
   "cell_type": "code",
   "execution_count": null,
   "id": "4c9584fd-b48c-46f6-9135-d33a48ac800b",
   "metadata": {},
   "outputs": [],
   "source": []
  }
 ],
 "metadata": {
  "kernelspec": {
   "display_name": "Python 3 (ipykernel)",
   "language": "python",
   "name": "python3"
  },
  "language_info": {
   "codemirror_mode": {
    "name": "ipython",
    "version": 3
   },
   "file_extension": ".py",
   "mimetype": "text/x-python",
   "name": "python",
   "nbconvert_exporter": "python",
   "pygments_lexer": "ipython3",
   "version": "3.10.6"
  }
 },
 "nbformat": 4,
 "nbformat_minor": 5
}
